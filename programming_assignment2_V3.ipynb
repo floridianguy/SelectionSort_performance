{
 "cells": [
  {
   "cell_type": "markdown",
   "metadata": {},
   "source": [
    "## Name: Aaron Eisenberg\n",
    "## Course: 2021SU_MSDS_432-DL_SEC55\n",
    "## Programming Assignment, Week 2 "
   ]
  },
  {
   "cell_type": "code",
   "execution_count": 2,
   "metadata": {},
   "outputs": [],
   "source": [
    "import numpy as np\n",
    "import pandas as pd \n",
    "import time \n",
    "from random import seed \n",
    "from random import random \n",
    "import matplotlib.pyplot as plt "
   ]
  },
  {
   "cell_type": "markdown",
   "metadata": {},
   "source": [
    "### Step 1 - Create five arrays with random integers and use random seed "
   ]
  },
  {
   "cell_type": "code",
   "execution_count": 16,
   "metadata": {},
   "outputs": [],
   "source": [
    "np.random.seed(15)\n",
    "\n",
    "array1 = np.random.randint(1, int(1e5+1), int(10e3))\n",
    "array2 = np.random.randint(1, int(1e5+1), int(20e3))\n",
    "array3 = np.random.randint(1, int(1e5+1), int(30e3))\n",
    "array4 = np.random.randint(1, int(1e5+1), int(40e3))\n",
    "array5 = np.random.randint(1, int(1e5+1), int(50e3))\n",
    "\n",
    "random_arrays = [array1, array2, array3, array4, array5]\n",
    "array_lengths = [len(i) for i in random_arrays] "
   ]
  },
  {
   "cell_type": "code",
   "execution_count": 22,
   "metadata": {},
   "outputs": [
    {
     "name": "stdout",
     "output_type": "stream",
     "text": [
      "Length array2: 20000\n",
      "min and max of array2: (7, 99998)\n"
     ]
    }
   ],
   "source": [
    "# verification step \n",
    "print('Length array2:', len(array2)) \n",
    "print('min and max of array2:', (min(array2), max(array2))) "
   ]
  },
  {
   "cell_type": "markdown",
   "metadata": {},
   "source": [
    "### Step 2 - Sort the arrays using the Selection Sort algorithm"
   ]
  },
  {
   "cell_type": "code",
   "execution_count": 18,
   "metadata": {},
   "outputs": [],
   "source": [
    "# first we set up function that determines the position of the minimum value in an array \n",
    "\n",
    "def index_smallest(unsorted_array):\n",
    "    minimum = unsorted_array[0]              # take first value in array: this will be our min value to start with\n",
    "    minimum_index = 0                        # define variable for index to start at zero \n",
    "    for i in range(1, len(unsorted_array)):  # for each value in the entire array after the first \n",
    "        if unsorted_array[i] < minimum:      # if the value at a particular position if less than the minimum\n",
    "            minimum = unsorted_array[i]      # take the position of the new minimum \n",
    "            minimum_index = i                # define the position of the new minimum value \n",
    "    return minimum_index                     # return that new minimum value's position "
   ]
  },
  {
   "cell_type": "code",
   "execution_count": 19,
   "metadata": {},
   "outputs": [
    {
     "name": "stdout",
     "output_type": "stream",
     "text": [
      "1\n",
      "3696\n",
      "3696\n"
     ]
    }
   ],
   "source": [
    "# verification step \n",
    "print(min(array1)) \n",
    "print(list(array1).index(min(array1))) \n",
    "print(index_smallest(array1))   # should yield the same position as previous print statement "
   ]
  },
  {
   "cell_type": "code",
   "execution_count": 23,
   "metadata": {},
   "outputs": [],
   "source": [
    "def selection_sort(unsorted_array):\n",
    "    new_array = []                                     # create empty list for new array \n",
    "    unsorted_array = list(unsorted_array)\n",
    "    for i in range(0, len(unsorted_array)):            # for each element in the entire unsorted array \n",
    "        smallest = index_smallest(unsorted_array)      # use funct'n in previous sect'n to find location of min value\n",
    "        new_array.append(unsorted_array.pop(smallest)) # add min value to new end of new list and remove from unsorted array\n",
    "    return new_array"
   ]
  },
  {
   "cell_type": "code",
   "execution_count": 24,
   "metadata": {},
   "outputs": [
    {
     "name": "stdout",
     "output_type": "stream",
     "text": [
      "[1, 24, 41, 48, 64] ... [99938, 99958, 99967, 99985, 99997]\n",
      "10000\n"
     ]
    }
   ],
   "source": [
    "# verification step \n",
    "print(selection_sort(array1)[0:5], '...', selection_sort(array1)[-5:])\n",
    "print(len(selection_sort(array1)))"
   ]
  },
  {
   "cell_type": "markdown",
   "metadata": {},
   "source": [
    "### Step 3 - compare times for sorting arrays of different lengths "
   ]
  },
  {
   "cell_type": "code",
   "execution_count": 49,
   "metadata": {},
   "outputs": [],
   "source": [
    "# we will run each of the arrays through the following function for measuring time \n",
    "def timer(x):\n",
    "    start_time = time.perf_counter() \n",
    "    selection_sort(x)\n",
    "    end_time = time.perf_counter() \n",
    "    time_elapsed = round((end_time - start_time)*1000, 3)\n",
    "    return time_elapsed \n",
    "\n",
    "# we will store the times in the list comprehension below \n",
    "sort_times = [timer(i) for i in random_arrays] "
   ]
  },
  {
   "cell_type": "code",
   "execution_count": 50,
   "metadata": {},
   "outputs": [],
   "source": [
    "df_sort = pd.DataFrame({'Array Length': array_lengths, 'Selection Sort Run Time (miliseconds)': sort_times}) \n",
    "df_sort.loc[:, 'Array Length'] = df_sort['Array Length'].map('{:,}'.format) "
   ]
  },
  {
   "cell_type": "markdown",
   "metadata": {},
   "source": [
    "#### Below are our results in a DataFrame "
   ]
  },
  {
   "cell_type": "code",
   "execution_count": 51,
   "metadata": {},
   "outputs": [
    {
     "data": {
      "text/html": [
       "<div>\n",
       "<style scoped>\n",
       "    .dataframe tbody tr th:only-of-type {\n",
       "        vertical-align: middle;\n",
       "    }\n",
       "\n",
       "    .dataframe tbody tr th {\n",
       "        vertical-align: top;\n",
       "    }\n",
       "\n",
       "    .dataframe thead th {\n",
       "        text-align: right;\n",
       "    }\n",
       "</style>\n",
       "<table border=\"1\" class=\"dataframe\">\n",
       "  <thead>\n",
       "    <tr style=\"text-align: right;\">\n",
       "      <th></th>\n",
       "      <th>Array Length</th>\n",
       "      <th>Selection Sort Run Time (miliseconds)</th>\n",
       "    </tr>\n",
       "  </thead>\n",
       "  <tbody>\n",
       "    <tr>\n",
       "      <th>0</th>\n",
       "      <td>10,000</td>\n",
       "      <td>3943.400</td>\n",
       "    </tr>\n",
       "    <tr>\n",
       "      <th>1</th>\n",
       "      <td>20,000</td>\n",
       "      <td>15673.808</td>\n",
       "    </tr>\n",
       "    <tr>\n",
       "      <th>2</th>\n",
       "      <td>30,000</td>\n",
       "      <td>35996.854</td>\n",
       "    </tr>\n",
       "    <tr>\n",
       "      <th>3</th>\n",
       "      <td>40,000</td>\n",
       "      <td>64421.452</td>\n",
       "    </tr>\n",
       "    <tr>\n",
       "      <th>4</th>\n",
       "      <td>50,000</td>\n",
       "      <td>100721.425</td>\n",
       "    </tr>\n",
       "  </tbody>\n",
       "</table>\n",
       "</div>"
      ],
      "text/plain": [
       "  Array Length  Selection Sort Run Time (miliseconds)\n",
       "0       10,000                               3943.400\n",
       "1       20,000                              15673.808\n",
       "2       30,000                              35996.854\n",
       "3       40,000                              64421.452\n",
       "4       50,000                             100721.425"
      ]
     },
     "execution_count": 51,
     "metadata": {},
     "output_type": "execute_result"
    }
   ],
   "source": [
    "df_sort"
   ]
  },
  {
   "cell_type": "markdown",
   "metadata": {},
   "source": [
    "In the table above we can see that the relationship between the number of elements in the array and the time to sort using this algorithm is non-linear.  The relationship is not exaclty a quadratic (i.e. y=x^2) but it is very close to quadratice so we will approximate the relationship in the graph below."
   ]
  },
  {
   "cell_type": "markdown",
   "metadata": {},
   "source": [
    "### Step 4 - Plot Results "
   ]
  },
  {
   "cell_type": "code",
   "execution_count": 81,
   "metadata": {},
   "outputs": [
    {
     "data": {
      "image/png": "[encoded data removed]",
      "text/plain": [
       "<Figure size 864x720 with 1 Axes>"
      ]
     },
     "metadata": {
      "needs_background": "light"
     },
     "output_type": "display_data"
    }
   ],
   "source": [
    "array_lengths_str = [str(i) for i in array_lengths] \n",
    "array_count = np.arange(1, 6, 1)\n",
    "relation_approximation = [(i/10000)*1000*(j**1.9) for i,j in zip(array_lengths, array_count)] \n",
    "\n",
    "fig, ax = plt.subplots(figsize=(12, 10)) \n",
    "\n",
    "plt.xlabel('Elements in Array') \n",
    "plt.ylabel('Time (miliseconds)') \n",
    "\n",
    "plt.xticks(rotation=30) \n",
    "\n",
    "ax.plot(df_sort['Array Length'], df_sort['Selection Sort Run Time (miliseconds)'], \n",
    "        lw=3.0, color='darkblue', label='Actual Run Time') \n",
    "ax.plot(df_sort['Array Length'], relation_approximation, color='goldenrod', lw=0.6, \n",
    "        label='Approximated Time using:  Time = (ArrayLength/10,000)*1000*(ArrayCount^1.9), \\n where the\\\n",
    "Array Count starts at one') \n",
    "\n",
    "plt.legend()\n",
    "plt.title('Run Times for Selection Sort') \n",
    "plt.show(); "
   ]
  },
  {
   "cell_type": "markdown",
   "metadata": {},
   "source": [
    "### Summary "
   ]
  },
  {
   "cell_type": "markdown",
   "metadata": {},
   "source": [
    "The Selection Sort algorithm works by iterating through the array and finding the smallest value then placing that value in a new array.  The actual walkthrough of the steps are shown in the comments in the functions above.  \n",
    "\n",
    "Because Selection Sort has to iterate through the entire array for each element it is somewhat slow.  The approximation formula is a slightly modified quadratic equation so this method of sorting is approximately O(n^2). \n",
    "\n",
    "This is important to data engineers because it highlights how an algorithm can be slow or fast for sorting.  One example that comes to mind would be a polical party that wants to sort or rank its registered members based on how much they have donated in the past.  This could be a very slow process if the proper algorithm is not used, and the process may need to be repeated frequently to obtain an updated ranking/list so speed is important.  "
   ]
  },
  {
   "cell_type": "code",
   "execution_count": null,
   "metadata": {},
   "outputs": [],
   "source": []
  }
 ],
 "metadata": {
  "kernelspec": {
   "display_name": "Python 3",
   "language": "python",
   "name": "python3"
  },
  "language_info": {
   "codemirror_mode": {
    "name": "ipython",
    "version": 3
   },
   "file_extension": ".py",
   "mimetype": "text/x-python",
   "name": "python",
   "nbconvert_exporter": "python",
   "pygments_lexer": "ipython3",
   "version": "3.8.5"
  }
 },
 "nbformat": 4,
 "nbformat_minor": 4
}
